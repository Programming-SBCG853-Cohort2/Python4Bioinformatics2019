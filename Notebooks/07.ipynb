{
 "cells": [
  {
   "cell_type": "markdown",
   "metadata": {},
   "source": [
    "<small><small><i>\n",
    "Introduction to Python for Bioinformatics - available at https://github.com/kipkurui/Python4Bioinformatics.\n",
    "</i></small></small>\n",
    "\n",
    "## Files, Scripting and Modules\n",
    "\n",
    "So far, we have been writing all our Python Code in Jupyter notebooks. However, if you want to use the code we have written as part of a pipeline, you need to write scripts. Also, most of the time the data you need to analyse is in a file, which you need to read to Python and process. \n",
    "\n",
    "\n",
    "### Reading Files\n",
    "\n",
    "So far we have been working from memory. In Bioinformatics, you will need to read some file or even write some output to file. We use the `open` function. "
   ]
  },
  {
   "cell_type": "code",
   "execution_count": 14,
   "metadata": {},
   "outputs": [],
   "source": [
    "myfile = open(\"../Data/test.txt\", \"w\")\n",
    "myfile.write(\"My first file written from Python \\n\")\n",
    "myfile.write(\"---------------------------------\\n\")\n",
    "myfile.write(\"Hello, world!\\n\")\n",
    "myfile.close()"
   ]
  },
  {
   "cell_type": "markdown",
   "metadata": {},
   "source": [
    "`myfile` is a file handler"
   ]
  },
  {
   "cell_type": "code",
   "execution_count": 15,
   "metadata": {},
   "outputs": [],
   "source": [
    "read_file = open('../Data/test.txt', 'r')"
   ]
  },
  {
   "cell_type": "code",
   "execution_count": 33,
   "metadata": {},
   "outputs": [
    {
     "data": {
      "text/plain": [
       "['My first file written from Python \\n',\n",
       " '---------------------------------\\n',\n",
       " 'Hello, world!\\n']"
      ]
     },
     "execution_count": 33,
     "metadata": {},
     "output_type": "execute_result"
    }
   ],
   "source": [
    "read_file.readlines()"
   ]
  },
  {
   "cell_type": "code",
   "execution_count": 32,
   "metadata": {},
   "outputs": [
    {
     "data": {
      "text/plain": [
       "0"
      ]
     },
     "execution_count": 32,
     "metadata": {},
     "output_type": "execute_result"
    }
   ],
   "source": [
    "read_file.seek(0)"
   ]
  },
  {
   "cell_type": "code",
   "execution_count": 3,
   "metadata": {},
   "outputs": [
    {
     "name": "stdout",
     "output_type": "stream",
     "text": [
      "dna.fa         Salinispora_tropica_CNB_440.gbk  test.txt\r\n",
      "example.fasta  Streptomyces_coelicolor.fa\r\n",
      "humchrx.txt    Streptomyces_coelicolor.gbk\r\n"
     ]
    }
   ],
   "source": [
    "ls ../Data/"
   ]
  },
  {
   "cell_type": "markdown",
   "metadata": {},
   "source": [
    "The **mode** in which you open the file determines whether to write (w), read (r) or append(a) to file. \n",
    "\n",
    "Opening a file creates what we call a **file handle** which contains methods for manipulating the file. In our case, `myfile` has the methods to write and close the file. Closing the file makes it accessible in the disk. \n",
    "\n",
    "Alternatively, one can open the file in a mode that automatically closes the file when done. "
   ]
  },
  {
   "cell_type": "code",
   "execution_count": 34,
   "metadata": {},
   "outputs": [],
   "source": [
    "with open(\"../Data/test.txt\", \"w\") as myfile:\n",
    "    myfile.write(\"My first file written from Python \\n\")\n",
    "    myfile.write(\"---------------------------------\\n\")\n",
    "    myfile.write(\"Hello, world!\\n\")"
   ]
  },
  {
   "cell_type": "markdown",
   "metadata": {},
   "source": [
    "Let's check what else we can do with `open`."
   ]
  },
  {
   "cell_type": "code",
   "execution_count": 26,
   "metadata": {},
   "outputs": [],
   "source": [
    "?open"
   ]
  },
  {
   "cell_type": "markdown",
   "metadata": {},
   "source": [
    "#### Fetching file from the web\n",
    "Download this [file](https://www.uniprot.org/docs/humchrx.txt) we will use to explore file reading in python. "
   ]
  },
  {
   "cell_type": "code",
   "execution_count": 35,
   "metadata": {},
   "outputs": [
    {
     "data": {
      "text/plain": [
       "('../Data/humchrx.txt', <http.client.HTTPMessage at 0x7f8bc4d4f0f0>)"
      ]
     },
     "execution_count": 35,
     "metadata": {},
     "output_type": "execute_result"
    }
   ],
   "source": [
    "import urllib.request\n",
    "\n",
    "url = \"https://www.uniprot.org/docs/humchrx.txt\"\n",
    "destination_filename = \"../Data/humchrx.txt\"\n",
    "urllib.request.urlretrieve(url, destination_filename)"
   ]
  },
  {
   "cell_type": "markdown",
   "metadata": {},
   "source": [
    "#### Reading a file line-at-a-time\n",
    "\n",
    "We can read the file line by line using `readline`. Thie reads the line one by one until the end of the file. This is suitable for a large file which may not fit memory. "
   ]
  },
  {
   "cell_type": "code",
   "execution_count": 38,
   "metadata": {},
   "outputs": [
    {
     "name": "stdout",
     "output_type": "stream",
     "text": [
      "----------------------------------------------------------------------------\n",
      "\n"
     ]
    }
   ],
   "source": [
    "humchrx = open('../Data/humchrx.txt', 'r')\n",
    "line = humchrx.readline()\n",
    "print(line)"
   ]
  },
  {
   "cell_type": "code",
   "execution_count": 39,
   "metadata": {},
   "outputs": [],
   "source": [
    "humchrx.close()"
   ]
  },
  {
   "cell_type": "code",
   "execution_count": 42,
   "metadata": {},
   "outputs": [
    {
     "name": "stdout",
     "output_type": "stream",
     "text": [
      "My first file written from Python \n",
      "---------------------------------\n",
      "Hello, world!\n"
     ]
    }
   ],
   "source": [
    "with open('../Data/test.txt', 'r') as myfile:\n",
    "    while True:\n",
    "        line = myfile.readline()\n",
    "        if len(line) == 0: # If there are no more lines\n",
    "            break\n",
    "        print(line,end='')\n",
    "    "
   ]
  },
  {
   "cell_type": "markdown",
   "metadata": {},
   "source": [
    "### Read the whole file\n",
    "\n",
    "If the file is small or PC has enough memory, you can read the whole file into memory as a list using `readlines`."
   ]
  },
  {
   "cell_type": "code",
   "execution_count": 43,
   "metadata": {},
   "outputs": [
    {
     "name": "stdout",
     "output_type": "stream",
     "text": [
      "My first file written from Python \n",
      "\n",
      "---------------------------------\n",
      "\n",
      "Hello, world!\n",
      "\n"
     ]
    }
   ],
   "source": [
    "with open('../Data/test.txt', 'r') as myfile:\n",
    "    lines = myfile.readlines()\n",
    "    for line in lines:\n",
    "        print(line)"
   ]
  },
  {
   "cell_type": "code",
   "execution_count": 47,
   "metadata": {},
   "outputs": [
    {
     "data": {
      "text/plain": [
       "['My first file written from Python \\n',\n",
       " '---------------------------------\\n',\n",
       " 'Hello, world!\\n']"
      ]
     },
     "execution_count": 47,
     "metadata": {},
     "output_type": "execute_result"
    }
   ],
   "source": [
    "lines"
   ]
  },
  {
   "cell_type": "markdown",
   "metadata": {},
   "source": [
    "or as a whole"
   ]
  },
  {
   "cell_type": "code",
   "execution_count": 45,
   "metadata": {},
   "outputs": [
    {
     "name": "stdout",
     "output_type": "stream",
     "text": [
      "My first file written from Python \n",
      "---------------------------------\n",
      "Hello, world!\n",
      "\n"
     ]
    }
   ],
   "source": [
    "with open('../Data/test.txt', 'r') as myfile:\n",
    "    whole_file = myfile.read()\n",
    "    print(whole_file)"
   ]
  },
  {
   "cell_type": "code",
   "execution_count": 46,
   "metadata": {
    "scrolled": true
   },
   "outputs": [
    {
     "data": {
      "text/plain": [
       "'My first file written from Python \\n---------------------------------\\nHello, world!\\n'"
      ]
     },
     "execution_count": 46,
     "metadata": {},
     "output_type": "execute_result"
    }
   ],
   "source": [
    "whole_file"
   ]
  },
  {
   "cell_type": "markdown",
   "metadata": {},
   "source": [
    "### Exercise 1\n",
    "\n",
    "Write a function the reads the file (humchr.txt) and writes to another file (gene_names.txt) a clean list of gene names."
   ]
  },
  {
   "cell_type": "code",
   "execution_count": 80,
   "metadata": {},
   "outputs": [],
   "source": [
    "def getGeneList():\n",
    "    with open('../Data/humchrx.txt', 'r') as humchr:\n",
    "        tag = False\n",
    "        gene_list = []\n",
    "        for line in humchr:\n",
    "            if line.startswith('Gene'):\n",
    "                tag = True\n",
    "            if tag:\n",
    "                line_split = line.split()\n",
    "                if len(line_split) != 0:\n",
    "                    if '-' in line_split[0]:\n",
    "                        continue\n",
    "                    else:\n",
    "                        gene_list.append(line_split[0])\n",
    "    return gene_list[3:][:-2]"
   ]
  },
  {
   "cell_type": "code",
   "execution_count": 81,
   "metadata": {},
   "outputs": [],
   "source": [
    "clean_gene_list = getGeneList()"
   ]
  },
  {
   "cell_type": "code",
   "execution_count": 86,
   "metadata": {},
   "outputs": [],
   "source": [
    "def writeGeneList(clean_gene_list):\n",
    "    with open('../Data/gene_names.txt', 'w') as gene_names:\n",
    "        for gene in clean_gene_list:\n",
    "            gene_names.writelines(gene+'\\n')\n",
    "    print('Genes have been written Successfully')"
   ]
  },
  {
   "cell_type": "code",
   "execution_count": 87,
   "metadata": {},
   "outputs": [
    {
     "name": "stdout",
     "output_type": "stream",
     "text": [
      "Genes have been written Successfully\n"
     ]
    }
   ],
   "source": [
    "writeGeneList(clean_gene_list)"
   ]
  },
  {
   "cell_type": "code",
   "execution_count": 108,
   "metadata": {},
   "outputs": [
    {
     "name": "stdout",
     "output_type": "stream",
     "text": [
      "bank.py      execution.png  \u001b[0m\u001b[01;34m__pycache__\u001b[0m/      seqtools.py  \u001b[01;32mwrite_genes.py\u001b[0m*\r\n",
      "dnatools.py  genelist.py    pythonscripts.py  sysargv.py\r\n"
     ]
    }
   ],
   "source": [
    "ls"
   ]
  },
  {
   "cell_type": "code",
   "execution_count": 104,
   "metadata": {},
   "outputs": [
    {
     "name": "stdout",
     "output_type": "stream",
     "text": [
      "Genes have been written Successfully\n"
     ]
    }
   ],
   "source": [
    "import write_genes"
   ]
  },
  {
   "cell_type": "code",
   "execution_count": 107,
   "metadata": {},
   "outputs": [
    {
     "data": {
      "text/plain": [
       "['ABCB7',\n",
       " 'ABCD1',\n",
       " 'ACE2',\n",
       " 'ACOT9',\n",
       " 'ACSL4',\n",
       " 'ACTRT1',\n",
       " 'ADGRG2',\n",
       " 'ADGRG4',\n",
       " 'AFF2',\n",
       " 'AGTR2',\n",
       " 'AIFM1',\n",
       " 'AKAP14',\n",
       " 'AKAP17A',\n",
       " 'AKAP4',\n",
       " 'ALAS2',\n",
       " 'ALG13',\n",
       " 'AMELX',\n",
       " 'AMER1',\n",
       " 'AMMECR1',\n",
       " 'AMOT',\n",
       " 'ANOS1',\n",
       " 'AP1S2',\n",
       " 'APEX2',\n",
       " 'APLN',\n",
       " 'APOO',\n",
       " 'APOOL',\n",
       " 'AR',\n",
       " 'ARAF',\n",
       " 'ARHGAP36',\n",
       " 'ARHGAP4',\n",
       " 'ARHGAP6',\n",
       " 'ARHGEF6',\n",
       " 'ARHGEF9',\n",
       " 'ARL13A',\n",
       " 'ARMCX1',\n",
       " 'ARMCX2',\n",
       " 'ARMCX3',\n",
       " 'ARMCX4',\n",
       " 'ARMCX5',\n",
       " 'ARMCX6',\n",
       " 'ARR3',\n",
       " 'ARSD',\n",
       " 'ARSE',\n",
       " 'ARSF',\n",
       " 'ARSH',\n",
       " 'ARX',\n",
       " 'ASB11',\n",
       " 'ASB12',\n",
       " 'ASB9',\n",
       " 'ASMT',\n",
       " 'ASMTL',\n",
       " 'ATG4A',\n",
       " 'ATP11C',\n",
       " 'ATP1B4',\n",
       " 'ATP2B3',\n",
       " 'ATP6AP1',\n",
       " 'ATP6AP2',\n",
       " 'ATP7A',\n",
       " 'ATRX',\n",
       " 'ATXN3L',\n",
       " 'AVPR2',\n",
       " 'AWAT1',\n",
       " 'AWAT2',\n",
       " 'BCAP31',\n",
       " 'BCLAF3',\n",
       " 'BCOR',\n",
       " 'BCORL1',\n",
       " 'BEND2',\n",
       " 'BEX1',\n",
       " 'BEX2',\n",
       " 'BEX3',\n",
       " 'BEX4',\n",
       " 'BEX5',\n",
       " 'BGN',\n",
       " 'BHLHB9',\n",
       " 'BMP15',\n",
       " 'BMP2KL',\n",
       " 'BMX',\n",
       " 'BRCC3',\n",
       " 'BRS3',\n",
       " 'BRWD3',\n",
       " 'BTK',\n",
       " 'C1GALT1C1',\n",
       " 'CA5B',\n",
       " 'CA5BP1',\n",
       " 'CACNA1F',\n",
       " 'CAPN6',\n",
       " 'CASK',\n",
       " 'CBLL2',\n",
       " 'CCDC120',\n",
       " 'CCDC160',\n",
       " 'CCDC22',\n",
       " 'CCNB3',\n",
       " 'CCNQ',\n",
       " 'CD40LG',\n",
       " 'CD99',\n",
       " 'CD99L2',\n",
       " 'CDK16',\n",
       " 'CDKL5',\n",
       " 'CDR1',\n",
       " 'CDX4',\n",
       " 'CENPI',\n",
       " 'CENPVL1',\n",
       " 'CENPVL2',\n",
       " 'CENPVL3',\n",
       " 'CETN2',\n",
       " 'CFAP47',\n",
       " 'CFP',\n",
       " 'CHIC1',\n",
       " 'CHM',\n",
       " 'CHRDL1',\n",
       " 'CHST7',\n",
       " 'CITED1',\n",
       " 'CLCN4',\n",
       " 'CLCN5',\n",
       " 'CLDN2',\n",
       " 'CLDN34',\n",
       " 'CLIC2',\n",
       " 'CLTRN',\n",
       " 'CMC4',\n",
       " 'CNGA2',\n",
       " 'CNKSR2',\n",
       " 'COL4A5',\n",
       " 'COL4A6',\n",
       " 'COX7B',\n",
       " 'CPXCR1',\n",
       " 'CRLF2',\n",
       " 'CSAG1',\n",
       " 'CSAG2',\n",
       " 'CSAG3',\n",
       " 'CSF2RA',\n",
       " 'CSTF2',\n",
       " 'CT45A1',\n",
       " 'CT45A10',\n",
       " 'CT45A2',\n",
       " 'CT45A3',\n",
       " 'CT45A5',\n",
       " 'CT45A6',\n",
       " 'CT45A7',\n",
       " 'CT45A8',\n",
       " 'CT45A9',\n",
       " 'CT47A1',\n",
       " 'CT47A10',\n",
       " 'CT47A11',\n",
       " 'CT47A12',\n",
       " 'CT47A2',\n",
       " 'CT47A3',\n",
       " 'CT47A4',\n",
       " 'CT47A5',\n",
       " 'CT47A6',\n",
       " 'CT47A7',\n",
       " 'CT47A8',\n",
       " 'CT47A9',\n",
       " 'CT47B1',\n",
       " 'CT55',\n",
       " 'CT83',\n",
       " 'CTAG1A',\n",
       " 'CTAG1B',\n",
       " 'CTAG2',\n",
       " 'CTPS2',\n",
       " 'CUL4B',\n",
       " 'CXCR3',\n",
       " 'CXorf1',\n",
       " 'CXorf21',\n",
       " 'CXorf38',\n",
       " 'CXorf40A',\n",
       " 'CXorf40B',\n",
       " 'CXorf49',\n",
       " 'CXorf49B',\n",
       " 'CXorf51A',\n",
       " 'CXorf51B',\n",
       " 'CXorf56',\n",
       " 'CXorf58',\n",
       " 'CXorf65',\n",
       " 'CXorf66',\n",
       " 'CYBB',\n",
       " 'CYLC1',\n",
       " 'CYSLTR1',\n",
       " 'DACH2',\n",
       " 'DCAF12L1',\n",
       " 'DCAF12L2',\n",
       " 'DCAF8L1',\n",
       " 'DCAF8L2',\n",
       " 'DCX',\n",
       " 'DDX3X',\n",
       " 'DDX53',\n",
       " 'DENND10P1',\n",
       " 'DGAT2L6',\n",
       " 'DGKK',\n",
       " 'DHRSX',\n",
       " 'DIAPH2',\n",
       " 'DIPK2B',\n",
       " 'DKC1',\n",
       " 'DLG3',\n",
       " 'DMD',\n",
       " 'DMRTC1',\n",
       " 'DMRTC1B',\n",
       " 'DNASE1L1',\n",
       " 'DOCK11',\n",
       " 'DRP2',\n",
       " 'DUSP21',\n",
       " 'DUSP9',\n",
       " 'DYNLT3',\n",
       " 'EBP',\n",
       " 'EDA',\n",
       " 'EDA2R',\n",
       " 'EFHC2',\n",
       " 'EFNB1',\n",
       " 'EGFL6',\n",
       " 'EIF1AX',\n",
       " 'EIF2S3',\n",
       " 'ELF4',\n",
       " 'ELK1',\n",
       " 'EMD',\n",
       " 'ENOX2',\n",
       " 'ERAS',\n",
       " 'ERCC6L',\n",
       " 'ERVFC1',\n",
       " 'ESX1',\n",
       " 'ETDA',\n",
       " 'ETDB',\n",
       " 'ETDC',\n",
       " 'EZHIP',\n",
       " 'F8',\n",
       " 'F8A1',\n",
       " 'F8A2',\n",
       " 'F8A3',\n",
       " 'F9',\n",
       " 'FAAH2',\n",
       " 'FAM104B',\n",
       " 'FAM120C',\n",
       " 'FAM122B',\n",
       " 'FAM122C',\n",
       " 'FAM133A',\n",
       " 'FAM155B',\n",
       " 'FAM156A',\n",
       " 'FAM156B',\n",
       " 'FAM199X',\n",
       " 'FAM223A',\n",
       " 'FAM223B',\n",
       " 'FAM236A',\n",
       " 'FAM236B',\n",
       " 'FAM236C',\n",
       " 'FAM236D',\n",
       " 'FAM3A',\n",
       " 'FAM47A',\n",
       " 'FAM47B',\n",
       " 'FAM47C',\n",
       " 'FAM47DP',\n",
       " 'FAM50A',\n",
       " 'FAM9A',\n",
       " 'FAM9B',\n",
       " 'FAM9C',\n",
       " 'FANCB',\n",
       " 'FATE1',\n",
       " 'FGD1',\n",
       " 'FGF13',\n",
       " 'FGF16',\n",
       " 'FHL1',\n",
       " 'FLNA',\n",
       " 'FMR1',\n",
       " 'FMR1NB',\n",
       " 'FOXO4',\n",
       " 'FOXP3',\n",
       " 'FOXR2',\n",
       " 'FRMD7',\n",
       " 'FRMD8P1',\n",
       " 'FRMPD3',\n",
       " 'FRMPD4',\n",
       " 'FTH1P19',\n",
       " 'FTHL17',\n",
       " 'FTSJ1',\n",
       " 'FUNDC1',\n",
       " 'FUNDC2',\n",
       " 'FXYD6P3',\n",
       " 'G6PD',\n",
       " 'GAB3',\n",
       " 'GABRA3',\n",
       " 'GABRE',\n",
       " 'GABRQ',\n",
       " 'GAGE1',\n",
       " 'GAGE10',\n",
       " 'GAGE12B',\n",
       " 'GAGE12C',\n",
       " 'GAGE12D',\n",
       " 'GAGE12E',\n",
       " 'GAGE12F',\n",
       " 'GAGE12G',\n",
       " 'GAGE12H',\n",
       " 'GAGE12I',\n",
       " 'GAGE12J',\n",
       " 'GAGE13',\n",
       " 'GAGE2A',\n",
       " 'GAGE2B',\n",
       " 'GAGE2C',\n",
       " 'GAGE2D',\n",
       " 'GAGE2E',\n",
       " 'GAGE5',\n",
       " 'GAGE6',\n",
       " 'GAGE7',\n",
       " 'GAGE8',\n",
       " 'GATA1',\n",
       " 'GCNA',\n",
       " 'GDI1',\n",
       " 'GDPD2',\n",
       " 'GEMIN8',\n",
       " 'GJB1',\n",
       " 'GK',\n",
       " 'GLA',\n",
       " 'GLOD5',\n",
       " 'GLRA2',\n",
       " 'GLRA4',\n",
       " 'GLUD2',\n",
       " 'GNL3L',\n",
       " 'GPC3',\n",
       " 'GPC4',\n",
       " 'GPKOW',\n",
       " 'GPM6B',\n",
       " 'GPR101',\n",
       " 'GPR119',\n",
       " 'GPR143',\n",
       " 'GPR173',\n",
       " 'GPR174',\n",
       " 'GPR34',\n",
       " 'GPR50',\n",
       " 'GPR82',\n",
       " 'GPRASP1',\n",
       " 'GPRASP2',\n",
       " 'GRIA3',\n",
       " 'GRIPAP1',\n",
       " 'GRPR',\n",
       " 'GSPT2',\n",
       " 'GTPBP6',\n",
       " 'GUCY2F',\n",
       " 'GYG2',\n",
       " 'H2AFB1',\n",
       " 'H2AFB2',\n",
       " 'H2AFB3',\n",
       " 'H2BFM',\n",
       " 'H2BFWT',\n",
       " 'HAUS7',\n",
       " 'HCCS',\n",
       " 'HCFC1',\n",
       " 'HDAC6',\n",
       " 'HDAC8',\n",
       " 'HDX',\n",
       " 'HEPH',\n",
       " 'HMGB3',\n",
       " 'HMGN5',\n",
       " 'HNRNPH2',\n",
       " 'HPRT1',\n",
       " 'HS6ST2',\n",
       " 'HSD17B10',\n",
       " 'HSFX1',\n",
       " 'HSFX2',\n",
       " 'HSFX3',\n",
       " 'HSFX4',\n",
       " 'HTATSF1',\n",
       " 'HTR2C',\n",
       " 'HUWE1',\n",
       " 'HYPM',\n",
       " 'IDH3G',\n",
       " 'IDS',\n",
       " 'IGBP1',\n",
       " 'IGSF1',\n",
       " 'IKBKG',\n",
       " 'IL13RA1',\n",
       " 'IL13RA2',\n",
       " 'IL1RAPL1',\n",
       " 'IL1RAPL2',\n",
       " 'IL2RG',\n",
       " 'IL3RA',\n",
       " 'IL9R',\n",
       " 'INE1',\n",
       " 'INTS6L',\n",
       " 'IQSEC2',\n",
       " 'IRAK1',\n",
       " 'IRS4',\n",
       " 'ITGB1BP2',\n",
       " 'ITIH6',\n",
       " 'ITM2A',\n",
       " 'JADE3',\n",
       " 'KCND1',\n",
       " 'KCNE5',\n",
       " 'KDM5C',\n",
       " 'KDM6A',\n",
       " 'KIAA1210',\n",
       " 'KIF4A',\n",
       " 'KLF8',\n",
       " 'KLHL13',\n",
       " 'KLHL15',\n",
       " 'KLHL34',\n",
       " 'KLHL4',\n",
       " 'KRBOX4',\n",
       " 'L1CAM',\n",
       " 'LAGE3',\n",
       " 'LAMP2',\n",
       " 'LANCL3',\n",
       " 'LAS1L',\n",
       " 'LCA10',\n",
       " 'LDOC1',\n",
       " 'LHFPL1',\n",
       " 'LINC00269',\n",
       " 'LINC01545',\n",
       " 'LINC01546',\n",
       " 'LINC01560',\n",
       " 'LONRF3',\n",
       " 'LPAR4',\n",
       " 'LRCH2',\n",
       " 'LUZP4',\n",
       " 'MAGEA1',\n",
       " 'MAGEA10',\n",
       " 'MAGEA11',\n",
       " 'MAGEA12',\n",
       " 'MAGEA13P',\n",
       " 'MAGEA2',\n",
       " 'MAGEA2B',\n",
       " 'MAGEA3',\n",
       " 'MAGEA4',\n",
       " 'MAGEA5',\n",
       " 'MAGEA6',\n",
       " 'MAGEA8',\n",
       " 'MAGEA9',\n",
       " 'MAGEA9B',\n",
       " 'MAGEB1',\n",
       " 'MAGEB10',\n",
       " 'MAGEB16',\n",
       " 'MAGEB17',\n",
       " 'MAGEB18',\n",
       " 'MAGEB2',\n",
       " 'MAGEB3',\n",
       " 'MAGEB4',\n",
       " 'MAGEB5',\n",
       " 'MAGEB6',\n",
       " 'MAGEC1',\n",
       " 'MAGEC2',\n",
       " 'MAGEC3',\n",
       " 'MAGED1',\n",
       " 'MAGED2',\n",
       " 'MAGED4',\n",
       " 'MAGED4B',\n",
       " 'MAGEE1',\n",
       " 'MAGEE2',\n",
       " 'MAGEH1',\n",
       " 'MAGIX',\n",
       " 'MAGT1',\n",
       " 'MAMLD1',\n",
       " 'MAOA',\n",
       " 'MAOB',\n",
       " 'MAP3K15',\n",
       " 'MAP7D2',\n",
       " 'MAP7D3',\n",
       " 'MBNL3',\n",
       " 'MBTPS2',\n",
       " 'MCF2',\n",
       " 'MCTS1',\n",
       " 'MECP2',\n",
       " 'MED12',\n",
       " 'MED14',\n",
       " 'MED14OS',\n",
       " 'MID1',\n",
       " 'MID1IP1',\n",
       " 'MID2',\n",
       " 'MKRN4P',\n",
       " 'MMGT1',\n",
       " 'MORC4',\n",
       " 'MORF4L2',\n",
       " 'MOSPD1',\n",
       " 'MOSPD2',\n",
       " 'MPC1L',\n",
       " 'MPP1',\n",
       " 'MSL3',\n",
       " 'MSN',\n",
       " 'MTCP1',\n",
       " 'MTM1',\n",
       " 'MTMR1',\n",
       " 'MTMR8',\n",
       " 'MTRNR2L10',\n",
       " 'MXRA5',\n",
       " 'MYCLP1',\n",
       " 'NAA10',\n",
       " 'NAP1L2',\n",
       " 'NAP1L3',\n",
       " 'NAP1L6P',\n",
       " 'NBDY',\n",
       " 'NCBP2L',\n",
       " 'NDP',\n",
       " 'NDUFA1',\n",
       " 'NDUFB11',\n",
       " 'NEXMIF',\n",
       " 'NHS',\n",
       " 'NHSL2',\n",
       " 'NKAP',\n",
       " 'NKAPP1',\n",
       " 'NKRF',\n",
       " 'NLGN3',\n",
       " 'NLGN4X',\n",
       " 'NLRP2B',\n",
       " 'NONO',\n",
       " 'NOX1',\n",
       " 'NR0B1',\n",
       " 'NRK',\n",
       " 'NSDHL',\n",
       " 'NUDT10',\n",
       " 'NUDT11',\n",
       " 'NUP62CL',\n",
       " 'NXF2',\n",
       " 'NXF2B',\n",
       " 'NXF3',\n",
       " 'NXF5',\n",
       " 'NXT2',\n",
       " 'NYX',\n",
       " 'OCRL',\n",
       " 'OFD1',\n",
       " 'OGT',\n",
       " 'OPHN1',\n",
       " 'OPN1LW',\n",
       " 'OPN1MW',\n",
       " 'OPN1MW2',\n",
       " 'OPN1MW3',\n",
       " 'OR13H1',\n",
       " 'OTC',\n",
       " 'OTUD5',\n",
       " 'OTUD6A',\n",
       " 'P2RY10',\n",
       " 'P2RY4',\n",
       " 'P2RY8',\n",
       " 'PABPC1L2A',\n",
       " 'PABPC1L2B',\n",
       " 'PABPC5',\n",
       " 'PAGE1',\n",
       " 'PAGE2',\n",
       " 'PAGE2B',\n",
       " 'PAGE3',\n",
       " 'PAGE4',\n",
       " 'PAGE5',\n",
       " 'PAK3',\n",
       " 'PASD1',\n",
       " 'PBDC1',\n",
       " 'PCDH11X',\n",
       " 'PCDH19',\n",
       " 'PCSK1N',\n",
       " 'PCYT1B',\n",
       " 'PDHA1',\n",
       " 'PDK3',\n",
       " 'PDZD11',\n",
       " 'PDZD4',\n",
       " 'PFKFB1',\n",
       " 'PGAM4',\n",
       " 'PGK1',\n",
       " 'PGRMC1',\n",
       " 'PHEX',\n",
       " 'PHF6',\n",
       " 'PHF8',\n",
       " 'PHKA1',\n",
       " 'PHKA2',\n",
       " 'PIGA',\n",
       " 'PIH1D3',\n",
       " 'PIM2',\n",
       " 'PIN4',\n",
       " 'PIR',\n",
       " 'PJA1',\n",
       " 'PLAC1',\n",
       " 'PLCXD1',\n",
       " 'PLP1',\n",
       " 'PLP2',\n",
       " 'PLS3',\n",
       " 'PLXNA3',\n",
       " 'PLXNB3',\n",
       " 'PNCK',\n",
       " 'PNMA3',\n",
       " 'PNMA5',\n",
       " 'PNMA6A',\n",
       " 'PNMA6E',\n",
       " 'PNMA6F',\n",
       " 'PNPLA4',\n",
       " 'POF1B',\n",
       " 'POLA1',\n",
       " 'PORCN',\n",
       " 'POU3F4',\n",
       " 'PPEF1',\n",
       " 'PPP1R2C',\n",
       " 'PPP1R3F',\n",
       " 'PPP2R3B',\n",
       " 'PPP4R3C',\n",
       " 'PQBP1',\n",
       " 'PRAF2',\n",
       " 'PRDX4',\n",
       " 'PRICKLE3',\n",
       " 'PRKX',\n",
       " 'PRPS1',\n",
       " 'PRPS2',\n",
       " 'PRR32',\n",
       " 'PRRG1',\n",
       " 'PRRG3',\n",
       " 'PSMD10',\n",
       " 'PTCHD1',\n",
       " 'PUDP',\n",
       " 'PWWP3B',\n",
       " 'PYY3',\n",
       " 'RAB33A',\n",
       " 'RAB39B',\n",
       " 'RAB40A',\n",
       " 'RAB40AL',\n",
       " 'RAB41',\n",
       " 'RAB9A',\n",
       " 'RAB9B',\n",
       " 'RADX',\n",
       " 'RAI2',\n",
       " 'RAP2C',\n",
       " 'RBBP7',\n",
       " 'RBM10',\n",
       " 'RBM3',\n",
       " 'RBM41',\n",
       " 'RBMX',\n",
       " 'RBMX2',\n",
       " 'RBMXL3',\n",
       " 'RENBP',\n",
       " 'REPS2',\n",
       " 'RGN',\n",
       " 'RHOXF1',\n",
       " 'RHOXF2',\n",
       " 'RHOXF2B',\n",
       " 'RIBC1',\n",
       " 'RIPPLY1',\n",
       " 'RLIM',\n",
       " 'RNF113A',\n",
       " 'RNF128',\n",
       " 'RP2',\n",
       " 'RPA4',\n",
       " 'RPGR',\n",
       " 'RPL10',\n",
       " 'RPL36A',\n",
       " 'RPL39',\n",
       " 'RPL9P7',\n",
       " 'RPS26P11',\n",
       " 'RPS4X',\n",
       " 'RPS6KA3',\n",
       " 'RPS6KA6',\n",
       " 'RRAGB',\n",
       " 'RS1',\n",
       " 'RTL3',\n",
       " 'RTL4',\n",
       " 'RTL5',\n",
       " 'RTL8A',\n",
       " 'RTL8B',\n",
       " 'RTL8C',\n",
       " 'RTL8C',\n",
       " 'RTL9',\n",
       " 'S100G',\n",
       " 'SAGE1',\n",
       " 'SAGE2P',\n",
       " 'SASH3',\n",
       " 'SAT1',\n",
       " 'SATL1',\n",
       " 'SCML1',\n",
       " 'SCML2',\n",
       " 'SEPTIN6',\n",
       " 'SERPINA7',\n",
       " 'SERTM2',\n",
       " 'SH2D1A',\n",
       " 'SH3BGRL',\n",
       " 'SH3KBP1',\n",
       " 'SHOX',\n",
       " 'SHROOM2',\n",
       " 'SHROOM4',\n",
       " 'SLC10A3',\n",
       " 'SLC16A2',\n",
       " 'SLC25A14',\n",
       " 'SLC25A43',\n",
       " 'SLC25A5',\n",
       " 'SLC25A53',\n",
       " 'SLC25A6',\n",
       " 'SLC35A2',\n",
       " 'SLC38A5',\n",
       " 'SLC6A14',\n",
       " 'SLC6A8',\n",
       " 'SLC7A3',\n",
       " 'SLC9A6',\n",
       " 'SLC9A7',\n",
       " 'SLITRK2',\n",
       " 'SLITRK4',\n",
       " 'SMARCA1',\n",
       " 'SMC1A',\n",
       " 'SMIM10',\n",
       " 'SMIM10L2A',\n",
       " 'SMIM10L2B',\n",
       " 'SMIM9',\n",
       " 'SMPX',\n",
       " 'SMS',\n",
       " 'SNURFL',\n",
       " 'SNX12',\n",
       " 'SOWAHD',\n",
       " 'SOX3',\n",
       " 'SPACA5',\n",
       " 'SPACA5B',\n",
       " 'SPANXA1',\n",
       " 'SPANXA2',\n",
       " 'SPANXB1',\n",
       " 'SPANXC',\n",
       " 'SPANXD',\n",
       " 'SPANXN1',\n",
       " 'SPANXN2',\n",
       " 'SPANXN3',\n",
       " 'SPANXN4',\n",
       " 'SPANXN5',\n",
       " 'SPIN2A',\n",
       " 'SPIN2B',\n",
       " 'SPIN3',\n",
       " 'SPIN4',\n",
       " 'SPRY3',\n",
       " 'SRPK3',\n",
       " 'SRPX',\n",
       " 'SRPX2',\n",
       " 'SSR4',\n",
       " 'SSX1',\n",
       " 'SSX2',\n",
       " 'SSX2B',\n",
       " 'SSX3',\n",
       " 'SSX4',\n",
       " 'SSX4B',\n",
       " 'SSX5',\n",
       " 'SSX6P',\n",
       " 'SSX7',\n",
       " 'SSX8P',\n",
       " 'SSX9P',\n",
       " 'STAG2',\n",
       " 'STARD8',\n",
       " 'STK26',\n",
       " 'STS',\n",
       " 'SUPT20HL1',\n",
       " 'SUPT20HL2',\n",
       " 'SUV39H1',\n",
       " 'SYAP1',\n",
       " 'SYN1',\n",
       " 'SYP',\n",
       " 'SYTL4',\n",
       " 'SYTL5',\n",
       " 'TAB3',\n",
       " 'TAF1',\n",
       " 'TAF7L',\n",
       " 'TAF9B',\n",
       " 'TAZ',\n",
       " 'TBC1D25',\n",
       " 'TBC1D8B',\n",
       " 'TBL1X',\n",
       " 'TBX22',\n",
       " 'TCEAL1',\n",
       " 'TCEAL2',\n",
       " 'TCEAL3',\n",
       " 'TCEAL4',\n",
       " 'TCEAL5',\n",
       " 'TCEAL6',\n",
       " 'TCEAL7',\n",
       " 'TCEAL8',\n",
       " 'TCEAL9',\n",
       " 'TCEANC',\n",
       " 'TCP11X1',\n",
       " 'TCP11X2',\n",
       " 'TDGF1P3',\n",
       " 'TENM1',\n",
       " 'TENT5D',\n",
       " 'TEX11',\n",
       " 'TEX13A',\n",
       " 'TEX13B',\n",
       " 'TEX13C',\n",
       " 'TEX13D',\n",
       " 'TEX28',\n",
       " 'TEX28P1',\n",
       " 'TEX28P2',\n",
       " 'TFDP3',\n",
       " 'TFE3',\n",
       " 'TGIF2LX',\n",
       " 'THOC2',\n",
       " 'TIMM17B',\n",
       " 'TIMM8A',\n",
       " 'TIMP1',\n",
       " 'TKTL1',\n",
       " 'TLR7',\n",
       " 'TLR8',\n",
       " 'TMEM164',\n",
       " 'TMEM185A',\n",
       " 'TMEM187',\n",
       " 'TMEM255A',\n",
       " 'TMEM31',\n",
       " 'TMEM35A',\n",
       " 'TMEM47',\n",
       " 'TMLHE',\n",
       " 'TMSB15A',\n",
       " 'TMSB15B',\n",
       " 'TMSB4X',\n",
       " 'TNMD',\n",
       " 'TRAPPC2',\n",
       " 'TREX2',\n",
       " 'TRMT2B',\n",
       " 'TRO',\n",
       " 'TRPC5',\n",
       " 'TRPC5OS',\n",
       " 'TSC22D3',\n",
       " 'TSPAN6',\n",
       " 'TSPAN7',\n",
       " 'TSPYL2',\n",
       " 'TSR2',\n",
       " 'TXLNG',\n",
       " 'UBA1',\n",
       " 'UBE2A',\n",
       " 'UBE2DNL',\n",
       " 'UBE2NL',\n",
       " 'UBL4A',\n",
       " 'UBQLN2',\n",
       " 'UPF3B',\n",
       " 'UPRT',\n",
       " 'USP11',\n",
       " 'USP26',\n",
       " 'USP27X',\n",
       " 'USP51',\n",
       " 'USP9X',\n",
       " 'UTP14A',\n",
       " 'UXT',\n",
       " 'VAMP7',\n",
       " 'VBP1',\n",
       " 'VCX',\n",
       " 'VCX2',\n",
       " 'VCX3A',\n",
       " 'VCX3B',\n",
       " 'VEGFD',\n",
       " 'VENTXP1',\n",
       " 'VGLL1',\n",
       " 'VMA21',\n",
       " 'VSIG1',\n",
       " 'VSIG4',\n",
       " 'WAS',\n",
       " 'WASH6P',\n",
       " 'WDR13',\n",
       " 'WDR44',\n",
       " 'WDR45',\n",
       " 'WNK3',\n",
       " 'WWC3',\n",
       " 'XAGE1A',\n",
       " 'XAGE1B',\n",
       " 'XAGE1C',\n",
       " 'XAGE1D',\n",
       " 'XAGE1E',\n",
       " 'XAGE2',\n",
       " 'XAGE3',\n",
       " 'XAGE5',\n",
       " 'XG',\n",
       " 'XIAP',\n",
       " 'XK',\n",
       " 'XKRX',\n",
       " 'XPNPEP2',\n",
       " 'YIPF6',\n",
       " 'YY2',\n",
       " 'ZBED1',\n",
       " 'ZBTB33',\n",
       " 'ZC3H12B',\n",
       " 'ZC4H2',\n",
       " 'ZCCHC12',\n",
       " 'ZCCHC13',\n",
       " 'ZCCHC18',\n",
       " 'ZDHHC15',\n",
       " 'ZDHHC9',\n",
       " 'ZFP92',\n",
       " 'ZFX',\n",
       " 'ZIC3',\n",
       " 'ZMAT1',\n",
       " 'ZMYM3',\n",
       " 'ZNF157',\n",
       " 'ZNF182',\n",
       " 'ZNF185',\n",
       " 'ZNF275',\n",
       " 'ZNF280C',\n",
       " 'ZNF41',\n",
       " 'ZNF449',\n",
       " 'ZNF630',\n",
       " 'ZNF674',\n",
       " 'ZNF711',\n",
       " 'ZNF75D',\n",
       " 'ZNF81',\n",
       " 'ZRSR2',\n",
       " 'ZXDA',\n",
       " 'ZXDB']"
      ]
     },
     "execution_count": 107,
     "metadata": {},
     "output_type": "execute_result"
    }
   ],
   "source": [
    "write_genes.getGeneList()"
   ]
  },
  {
   "cell_type": "markdown",
   "metadata": {},
   "source": [
    "### Scripts and Modules\n",
    "\n",
    "A script is a file containing Python definitions and statements for performing some analysis. Scripts are known as when they are intended for use in other Python programs. Many Python modules come with Python as part of the standard library. \n",
    "\n",
    "You can get a list of available modules using help() and explore them."
   ]
  },
  {
   "cell_type": "markdown",
   "metadata": {},
   "source": [
    "### Writing you own modules\n",
    "\n",
    "All we need to do to create our own modules is to save our script as a file with a `.py` extension. Suppose, for example, this script is saved as a file named `seqtools.py`.\n",
    "\n",
    "```python\n",
    "def remove_at(pos, seq):\n",
    "    return seq[:pos] + seq[pos+1:]```\n",
    "    \n",
    "We can import the module as:"
   ]
  },
  {
   "cell_type": "code",
   "execution_count": 109,
   "metadata": {},
   "outputs": [],
   "source": [
    "import seqtools"
   ]
  },
  {
   "cell_type": "code",
   "execution_count": 110,
   "metadata": {},
   "outputs": [
    {
     "data": {
      "text/plain": [
       "'A sting!'"
      ]
     },
     "execution_count": 110,
     "metadata": {},
     "output_type": "execute_result"
    }
   ],
   "source": [
    "s = \"A string!\"\n",
    "seqtools.remove_at(4,s)"
   ]
  },
  {
   "cell_type": "markdown",
   "metadata": {},
   "source": [
    "Modules are useful when you want to analyse large data using the HPC or even create your library of handy functions. \n",
    "\n",
    "#### Running scripts\n",
    "\n",
    "When you have put your commands into a .py file, you can execute on the command line by invoking the Python interpreter using `python script.py.`"
   ]
  },
  {
   "cell_type": "markdown",
   "metadata": {},
   "source": [
    "### Exercise 2\n",
    "\n",
    "1. Convert the function you wrote in exercise 1 into a python module. Then, import the module and use the function to read `humchrx.txt` file and create a gene list file.\n",
    "2. Create a stand-alone script that does all the above.\n",
    "\n",
    "\n",
    "### Script that takes command line arguments\n",
    "So far, we can create a script that does one thing. In this case, you have to edit the script if you have a new gene file to analyse or you want to use a different name for the output file.\n",
    "\n",
    "#### sys.argv\n",
    "sys.argv is a list in Python, which contains the command line arguments passed to the script. Lets add this to a script `sysargv.py` and run on the command line. \n",
    "\n",
    "```python\n",
    "import sys\n",
    "print(\"This is the name of the script: \", sys.argv[0])\n",
    "print(\"Number of arguments: \", len(sys.argv))\n",
    "print(\"The arguments are: \" , str(sys.argv))```"
   ]
  },
  {
   "cell_type": "code",
   "execution_count": 2,
   "metadata": {},
   "outputs": [
    {
     "name": "stdout",
     "output_type": "stream",
     "text": [
      "/home/user/Python4Bioinformatics2019/Scripts\n"
     ]
    }
   ],
   "source": [
    "cd ../Scripts/"
   ]
  },
  {
   "cell_type": "code",
   "execution_count": 7,
   "metadata": {},
   "outputs": [],
   "source": [
    "import write_genes"
   ]
  },
  {
   "cell_type": "code",
   "execution_count": 9,
   "metadata": {},
   "outputs": [],
   "source": [
    "clean_gene_list = getGeneList('../Data/humchrx.txt')"
   ]
  },
  {
   "cell_type": "code",
   "execution_count": 11,
   "metadata": {},
   "outputs": [
    {
     "name": "stdout",
     "output_type": "stream",
     "text": [
      "Genes have been written Successfully\n"
     ]
    }
   ],
   "source": [
    "writeGeneList(clean_gene_list,'../Data/gene_names3.txt')"
   ]
  },
  {
   "cell_type": "code",
   "execution_count": 117,
   "metadata": {},
   "outputs": [
    {
     "name": "stdout",
     "output_type": "stream",
     "text": [
      "../Data/humchrx.txt\r\n",
      "../Data/gene_names2.txt\r\n",
      "Genes have been written Successfully\r\n"
     ]
    }
   ],
   "source": [
    "!python write_genes.py ../Data/humchrx.txt ../Data/gene_names2.txt"
   ]
  },
  {
   "cell_type": "code",
   "execution_count": 112,
   "metadata": {},
   "outputs": [
    {
     "name": "stdout",
     "output_type": "stream",
     "text": [
      "This is the name of the script:  sysargv.py\r\n",
      "Number of arguments:  2\r\n",
      "The arguments are:  ['sysargv.py', 'test']\r\n"
     ]
    }
   ],
   "source": [
    "!python sysargv.py test"
   ]
  },
  {
   "cell_type": "markdown",
   "metadata": {},
   "source": [
    "### Exercise 3\n",
    "\n",
    "- Using the same concept, convert your script in exercise 1 to take command line arguments (input and output files)\n",
    "- Using a DNA sequence read from file, answer the following questions:\n",
    "    1. Show that the DNA string contains only four letters.\n",
    "    2. In the DNA string there are regions that have a repeating letter. What is the letter and length of the longest repeating region?\n",
    "    3. How many ’ATG’s are in the DNA string?"
   ]
  },
  {
   "cell_type": "markdown",
   "metadata": {},
   "source": [
    "Solve the Pattern Matching Problem with Text = GACGATATACGACGATA and Pattern = ATA to find all starting positions of Pattern in Text. Return the starting positions in increasing order (make sure to use 0-based indexing!)"
   ]
  },
  {
   "cell_type": "markdown",
   "metadata": {},
   "source": [
    "### File handling, OS module, Shutil and Path modules\n",
    "\n",
    "Python can also interface directly with the Linux operating system using the **os**, **Shutil** and **path** modules.\n",
    "\n",
    "First, let's import the OS module"
   ]
  },
  {
   "cell_type": "code",
   "execution_count": 118,
   "metadata": {},
   "outputs": [],
   "source": [
    "import os"
   ]
  },
  {
   "cell_type": "code",
   "execution_count": 16,
   "metadata": {},
   "outputs": [
    {
     "data": {
      "text/plain": [
       "'/home/user/Python4Bioinformatics/Intro-to-Python'"
      ]
     },
     "execution_count": 16,
     "metadata": {},
     "output_type": "execute_result"
    }
   ],
   "source": [
    "os.getcwd()"
   ]
  },
  {
   "cell_type": "code",
   "execution_count": 17,
   "metadata": {},
   "outputs": [],
   "source": [
    "os.chdir('..')"
   ]
  },
  {
   "cell_type": "code",
   "execution_count": 18,
   "metadata": {},
   "outputs": [
    {
     "data": {
      "text/plain": [
       "'/home/user/Python4Bioinformatics'"
      ]
     },
     "execution_count": 18,
     "metadata": {},
     "output_type": "execute_result"
    }
   ],
   "source": [
    "os.getcwd()"
   ]
  },
  {
   "cell_type": "code",
   "execution_count": 19,
   "metadata": {},
   "outputs": [],
   "source": [
    "os.chdir('INotebooks/')"
   ]
  },
  {
   "cell_type": "code",
   "execution_count": 119,
   "metadata": {},
   "outputs": [],
   "source": [
    "?os"
   ]
  },
  {
   "cell_type": "code",
   "execution_count": 21,
   "metadata": {},
   "outputs": [
    {
     "data": {
      "text/plain": [
       "['execution.png',\n",
       " '05.ipynb',\n",
       " 'genelist.py',\n",
       " 'seqtools.py',\n",
       " '03.ipynb',\n",
       " '00.ipynb',\n",
       " '09.ipynb',\n",
       " '04.ipynb',\n",
       " '02.ipynb',\n",
       " 'bank.py',\n",
       " 'pythonscripts.py',\n",
       " '07.ipynb',\n",
       " '__pycache__',\n",
       " '08.ipynb',\n",
       " '.ipynb_checkpoints',\n",
       " '06.ipynb',\n",
       " 'dnatools.py',\n",
       " '01.ipynb',\n",
       " 'sysargv.py']"
      ]
     },
     "execution_count": 21,
     "metadata": {},
     "output_type": "execute_result"
    }
   ],
   "source": [
    "os.listdir()"
   ]
  },
  {
   "cell_type": "code",
   "execution_count": 120,
   "metadata": {},
   "outputs": [
    {
     "data": {
      "text/plain": [
       "False"
      ]
     },
     "execution_count": 120,
     "metadata": {},
     "output_type": "execute_result"
    }
   ],
   "source": [
    "os.path.exists('sdhjsd')"
   ]
  },
  {
   "cell_type": "code",
   "execution_count": 121,
   "metadata": {},
   "outputs": [
    {
     "data": {
      "text/plain": [
       "True"
      ]
     },
     "execution_count": 121,
     "metadata": {},
     "output_type": "execute_result"
    }
   ],
   "source": [
    "os.path.isfile('../Scripts/bank.py')"
   ]
  },
  {
   "cell_type": "markdown",
   "metadata": {},
   "source": [
    "### path manipulation\n",
    "The path module inside the os module contains methods related with path manipulation.For example you can use `path.join()` to join paths. \n",
    "- `path.exists(path):` Checks if a given path exists.\n",
    "- `path.split(path):` Returns a tuple splitting the file or directory name at the end and the rest of the path\n",
    "- `path.splitext(path):` Splits out the extension of a file. It returns a tuple with the dotted extension and the original parameter up to the dot.\n",
    "- `path.join(directory1,directory2,...)`: Join two or more path name components, inserting the operating system path separator as needed"
   ]
  },
  {
   "cell_type": "code",
   "execution_count": 24,
   "metadata": {},
   "outputs": [],
   "source": [
    "?os.path.join()"
   ]
  },
  {
   "cell_type": "markdown",
   "metadata": {},
   "source": [
    "Explore more at your own time.\n",
    "\n",
    "### Shutil\n",
    "Utility functions for copying and archiving files and directory trees."
   ]
  },
  {
   "cell_type": "code",
   "execution_count": 25,
   "metadata": {},
   "outputs": [],
   "source": [
    "import shutil"
   ]
  },
  {
   "cell_type": "code",
   "execution_count": 26,
   "metadata": {},
   "outputs": [],
   "source": [
    "?shutil"
   ]
  }
 ],
 "metadata": {
  "kernelspec": {
   "display_name": "Python 3",
   "language": "python",
   "name": "python3"
  },
  "language_info": {
   "codemirror_mode": {
    "name": "ipython",
    "version": 3
   },
   "file_extension": ".py",
   "mimetype": "text/x-python",
   "name": "python",
   "nbconvert_exporter": "python",
   "pygments_lexer": "ipython3",
   "version": "3.6.4"
  }
 },
 "nbformat": 4,
 "nbformat_minor": 2
}
